{
 "cells": [
  {
   "cell_type": "code",
   "execution_count": null,
   "metadata": {},
   "outputs": [],
   "source": [
    "class MyAuth(object):\n",
    "    consumer_key = 'TtOgs0agyQtBPIxRtJALBFxfd'\n",
    "    consumer_secret = 'c31ChorDN6b4WJDKBmZ7HMVL9WvR5YgEOAtho3uUzcIep138Ue'\n",
    "    access_token = '157959165-MKYWHnMya8r1yzKPcm8CN6o38h4WTb5CU3M09J0d'\n",
    "    access_token_secret = '3ntEzuRytjgMouFHXULZvPKhnPtJ7VxWE3Y2UlHDoftcj'"
   ]
  }
 ],
 "metadata": {
  "kernelspec": {
   "display_name": "Python 3",
   "language": "python",
   "name": "python3"
  },
  "language_info": {
   "codemirror_mode": {
    "name": "ipython",
    "version": 3
   },
   "file_extension": ".py",
   "mimetype": "text/x-python",
   "name": "python",
   "nbconvert_exporter": "python",
   "pygments_lexer": "ipython3",
   "version": "3.7.3"
  }
 },
 "nbformat": 4,
 "nbformat_minor": 2
}
