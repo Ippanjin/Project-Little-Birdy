{
 "cells": [
  {
   "cell_type": "markdown",
   "metadata": {},
   "source": [
    "### Accessing Twitter’s API for Development Purposes\n"
   ]
  },
  {
   "cell_type": "code",
   "execution_count": null,
   "metadata": {},
   "outputs": [],
   "source": [
    "# Authentication functon \n",
    "import twitter\n",
    "def oauth_login():\n",
    "# Go to http://twitter.com/apps/new to create an app and get values\n",
    "# for these credentials that you'll need to provide in place of the\n",
    "# empty string values that are defined as placeholders.\n",
    "# See https://dev.twitter.com/docs/auth/oauth for more information\n",
    "# on Twitter's OAuth implementation.\n",
    "    CONSUMER_KEY = 'TtOgs0agyQtBPIxRtJALBFxfd'\n",
    "    CONSUMER_SECRET = 'c31ChorDN6b4WJDKBmZ7HMVL9WvR5YgEOAtho3uUzcIep138Ue'\n",
    "    OAUTH_TOKEN = '157959165-MKYWHnMya8r1yzKPcm8CN6o38h4WTb5CU3M09J0d'\n",
    "    OAUTH_TOKEN_SECRET = '3ntEzuRytjgMouFHXULZvPKhnPtJ7VxWE3Y2UlHDoftcj'\n",
    "    auth = twitter.oauth.OAuth(OAUTH_TOKEN, OAUTH_TOKEN_SECRET,\n",
    "    CONSUMER_KEY, CONSUMER_SECRET)\n",
    "    twitter_api = twitter.Twitter(auth=auth)\n",
    "    return twitter_api\n"
   ]
  },
  {
   "cell_type": "markdown",
   "metadata": {},
   "source": [
    "### Discovering the Trending Topics\n"
   ]
  },
  {
   "cell_type": "code",
   "execution_count": null,
   "metadata": {},
   "outputs": [],
   "source": [
    "import json\n",
    "import twitter\n",
    "def twitter_trends(twitter_api, woe_id):\n",
    "    # Prefix ID with the underscore for query string parameterization.\n",
    "    # Without the underscore, the twitter package appends the ID value\n",
    "    # to the URL itself as a special­case keyword argument.\n",
    "    return twitter_api.trends.place(_id=woe_id)\n",
    "# Sample usage\n",
    "twitter_api = oauth_login()\n",
    "# See https://bit.ly/2pdi0tS\n",
    "# and http://www.woeidlookup.com to look up different Yahoo! Where On  IDs\n",
    "WORLD_WOE_ID = 1\n",
    "world_trends = twitter_trends(twitter_api, WORLD_WOE_ID)\n",
    "print(json.dumps(world_trends, indent=1))\n",
    "US_WOE_ID = 23424977\n",
    "us_trends = twitter_trends(twitter_api, US_WOE_ID)\n",
    "print(json.dumps(us_trends, indent=1))\n"
   ]
  },
  {
   "cell_type": "markdown",
   "metadata": {},
   "source": [
    "###  Searching for tweets\n"
   ]
  },
  {
   "cell_type": "code",
   "execution_count": 25,
   "metadata": {},
   "outputs": [
    {
     "data": {
      "text/plain": [
       "100"
      ]
     },
     "execution_count": 25,
     "metadata": {},
     "output_type": "execute_result"
    }
   ],
   "source": [
    "# Searching for tweets \n",
    "def twitter_search(twitter_api, q, max_results=200, **kw):\n",
    "    search_results = twitter_api.search.tweets(q=q,count = 100, **kw)\n",
    "    statuses = search_results['statuses']\n",
    "    max_results = min(1000, max_results)\n",
    "    for _ in range(10): # 10*100 = 1000\n",
    "        try:\n",
    "            next_results = search_results['search_metadata']['next_reults']\n",
    "        except KeyError as e: # No more results when next_results doesn't exist\n",
    "            break\n",
    "        kwargs = dict([ kv.split('=')for kv in next_results[1:].split(\"&\") ])\n",
    "        search_results = twitter_api.search.tweets(**kwargs)\n",
    "        statuses += search_results['statuses']\n",
    "        \n",
    "        if len(statuses)>max_results:\n",
    "            break\n",
    "    return statuses \n",
    "twitter_api = oauth_login()\n",
    "q = 'CrossFit'\n",
    "results = twitter_search(twitter_api,q,max_results = 10)\n",
    "len(results)\n",
    "# print(json.dumps(results, indent=1))\n"
   ]
  },
  {
   "cell_type": "code",
   "execution_count": 7,
   "metadata": {},
   "outputs": [
    {
     "data": {
      "text/plain": [
       "100"
      ]
     },
     "execution_count": 7,
     "metadata": {},
     "output_type": "execute_result"
    }
   ],
   "source": [
    "# Searching for tweets \n",
    "def twitter_search(twitter_api, q, max_results=200, **kw):\n",
    "    search_results = twitter_api.search.tweets(q=q,count = 100, **kw)\n",
    "    statuses = search_results['statuses']\n",
    "    \n",
    "    return statuses \n",
    "twitter_api = oauth_login()\n",
    "q = 'CrossFit'\n",
    "results = twitter_search(twitter_api,q,max_results = 10)\n",
    "len(results)"
   ]
  },
  {
   "cell_type": "code",
   "execution_count": 17,
   "metadata": {},
   "outputs": [
    {
     "data": {
      "text/plain": [
       "14"
      ]
     },
     "execution_count": 17,
     "metadata": {},
     "output_type": "execute_result"
    }
   ],
   "source": [
    "query = twitter_api.search.tweets(q='CrossFit')\n",
    "\n",
    "# print(json.dumps(query,indent =1))\n",
    "# len(query)\n",
    "# type(query)\n",
    "len(query['statuses'])"
   ]
  }
 ],
 "metadata": {
  "kernelspec": {
   "display_name": "Python 3",
   "language": "python",
   "name": "python3"
  },
  "language_info": {
   "codemirror_mode": {
    "name": "ipython",
    "version": 3
   },
   "file_extension": ".py",
   "mimetype": "text/x-python",
   "name": "python",
   "nbconvert_exporter": "python",
   "pygments_lexer": "ipython3",
   "version": "3.7.3"
  }
 },
 "nbformat": 4,
 "nbformat_minor": 2
}
